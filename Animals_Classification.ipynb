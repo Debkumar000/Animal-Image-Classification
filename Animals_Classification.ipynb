{
 "cells": [
  {
   "cell_type": "code",
   "execution_count": 1,
   "id": "cfbd3dfa",
   "metadata": {},
   "outputs": [],
   "source": [
    "import os\n",
    "import tensorflow as tf\n",
    "import keras\n",
    "import numpy as np\n",
    "import pandas as pd\n",
    "import matplotlib.pyplot as plt\n",
    "from sklearn.preprocessing import LabelEncoder"
   ]
  },
  {
   "cell_type": "code",
   "execution_count": 2,
   "id": "4d8067e9",
   "metadata": {},
   "outputs": [
    {
     "name": "stdout",
     "output_type": "stream",
     "text": [
      "['cats', 'dogs', 'snakes']\n",
      "3\n"
     ]
    }
   ],
   "source": [
    "animals = os.listdir(\"D:\\Projects\\Animal Classification\")\n",
    "print(animals)\n",
    "print(len(animals))"
   ]
  },
  {
   "cell_type": "code",
   "execution_count": 3,
   "id": "94bf860f",
   "metadata": {},
   "outputs": [],
   "source": [
    "import cv2\n",
    "path = \"D://Projects//Animal Classification//\"\n",
    "\n",
    "im_size = 90\n",
    "\n",
    "images = []\n",
    "labels = []\n",
    "\n",
    "for i in animals:\n",
    "    im_path = path + str(i)\n",
    "    files_name = [i for i in os.listdir(im_path) if i.endswith(\"jpg\")]\n",
    "    for f in files_name:\n",
    "        img = cv2.imread(im_path+\"//\"+f)\n",
    "        img = cv2.resize(img, (im_size, im_size))\n",
    "        images.append(img)\n",
    "        labels.append(i)"
   ]
  },
  {
   "cell_type": "code",
   "execution_count": 4,
   "id": "5a30dda0",
   "metadata": {},
   "outputs": [
    {
     "data": {
      "text/plain": [
       "array([[[[0.00392157, 0.08627451, 0.09411765],\n",
       "         [0.00784314, 0.07843138, 0.08235294],\n",
       "         [0.        , 0.05098039, 0.05098039],\n",
       "         ...,\n",
       "         [0.09411765, 0.11764706, 0.08235294],\n",
       "         [0.07058824, 0.10196079, 0.0627451 ],\n",
       "         [0.09411765, 0.1254902 , 0.08627451]],\n",
       "\n",
       "        [[0.        , 0.09019608, 0.09803922],\n",
       "         [0.01176471, 0.08235294, 0.08627451],\n",
       "         [0.00392157, 0.05490196, 0.05490196],\n",
       "         ...,\n",
       "         [0.10196079, 0.12941177, 0.09411765],\n",
       "         [0.06666667, 0.10196079, 0.0627451 ],\n",
       "         [0.07450981, 0.10980392, 0.07058824]],\n",
       "\n",
       "        [[0.        , 0.09411765, 0.10196079],\n",
       "         [0.00392157, 0.08627451, 0.09019608],\n",
       "         [0.00392157, 0.0627451 , 0.05882353],\n",
       "         ...,\n",
       "         [0.1254902 , 0.15686275, 0.11764706],\n",
       "         [0.07843138, 0.11372549, 0.07450981],\n",
       "         [0.07450981, 0.10980392, 0.07058824]],\n",
       "\n",
       "        ...,\n",
       "\n",
       "        [[0.3254902 , 0.37254903, 0.43137255],\n",
       "         [0.4117647 , 0.45882353, 0.54901963],\n",
       "         [0.41960785, 0.47058824, 0.5803922 ],\n",
       "         ...,\n",
       "         [0.09803922, 0.27058825, 0.25882354],\n",
       "         [0.07843138, 0.21568628, 0.21960784],\n",
       "         [0.        , 0.01568628, 0.03529412]],\n",
       "\n",
       "        [[0.12156863, 0.16862746, 0.19607843],\n",
       "         [0.29411766, 0.33333334, 0.40392157],\n",
       "         [0.4509804 , 0.49803922, 0.6117647 ],\n",
       "         ...,\n",
       "         [0.09019608, 0.2       , 0.19607843],\n",
       "         [0.14509805, 0.2784314 , 0.27058825],\n",
       "         [0.1254902 , 0.22352941, 0.21960784]],\n",
       "\n",
       "        [[0.        , 0.03921569, 0.04313726],\n",
       "         [0.21176471, 0.2509804 , 0.3137255 ],\n",
       "         [0.31764707, 0.35686275, 0.47058824],\n",
       "         ...,\n",
       "         [0.01176471, 0.03529412, 0.02745098],\n",
       "         [0.        , 0.02745098, 0.01176471],\n",
       "         [0.10588235, 0.24313726, 0.21568628]]],\n",
       "\n",
       "\n",
       "       [[[0.02352941, 0.02745098, 0.04313726],\n",
       "         [0.02352941, 0.02745098, 0.04313726],\n",
       "         [0.02352941, 0.02745098, 0.04313726],\n",
       "         ...,\n",
       "         [0.3647059 , 0.38039216, 0.36078432],\n",
       "         [0.3529412 , 0.36862746, 0.34901962],\n",
       "         [0.3372549 , 0.3529412 , 0.33333334]],\n",
       "\n",
       "        [[0.02352941, 0.02745098, 0.04313726],\n",
       "         [0.02352941, 0.02745098, 0.04313726],\n",
       "         [0.02352941, 0.02745098, 0.04313726],\n",
       "         ...,\n",
       "         [0.35686275, 0.37254903, 0.3529412 ],\n",
       "         [0.34509805, 0.3647059 , 0.34117648],\n",
       "         [0.32941177, 0.34509805, 0.3254902 ]],\n",
       "\n",
       "        [[0.02352941, 0.02745098, 0.04313726],\n",
       "         [0.02352941, 0.02745098, 0.04313726],\n",
       "         [0.02352941, 0.02745098, 0.04313726],\n",
       "         ...,\n",
       "         [0.34901962, 0.3647059 , 0.34509805],\n",
       "         [0.3372549 , 0.3529412 , 0.33333334],\n",
       "         [0.32156864, 0.3372549 , 0.31764707]],\n",
       "\n",
       "        ...,\n",
       "\n",
       "        [[0.23529412, 0.29411766, 0.32941177],\n",
       "         [0.2509804 , 0.30980393, 0.34509805],\n",
       "         [0.25882354, 0.31764707, 0.3529412 ],\n",
       "         ...,\n",
       "         [0.3254902 , 0.3882353 , 0.43529412],\n",
       "         [0.34509805, 0.4       , 0.44705883],\n",
       "         [0.36862746, 0.42352942, 0.47058824]],\n",
       "\n",
       "        [[0.22745098, 0.28627452, 0.32156864],\n",
       "         [0.23921569, 0.29803923, 0.3372549 ],\n",
       "         [0.23529412, 0.29411766, 0.32941177],\n",
       "         ...,\n",
       "         [0.31764707, 0.38039216, 0.42745098],\n",
       "         [0.3372549 , 0.39215687, 0.4392157 ],\n",
       "         [0.34509805, 0.4       , 0.44705883]],\n",
       "\n",
       "        [[0.20784314, 0.26666668, 0.3019608 ],\n",
       "         [0.21176471, 0.26666668, 0.3019608 ],\n",
       "         [0.23137255, 0.2901961 , 0.3254902 ],\n",
       "         ...,\n",
       "         [0.3019608 , 0.3647059 , 0.4117647 ],\n",
       "         [0.32941177, 0.38431373, 0.43137255],\n",
       "         [0.34117648, 0.39607844, 0.44313726]]],\n",
       "\n",
       "\n",
       "       [[[0.34509805, 0.35686275, 0.34901962],\n",
       "         [0.3372549 , 0.34901962, 0.3372549 ],\n",
       "         [0.34117648, 0.3529412 , 0.34117648],\n",
       "         ...,\n",
       "         [0.40784314, 0.3372549 , 0.49411765],\n",
       "         [0.36078432, 0.28627452, 0.45490196],\n",
       "         [0.36078432, 0.28235295, 0.4627451 ]],\n",
       "\n",
       "        [[0.33333334, 0.34509805, 0.3372549 ],\n",
       "         [0.35686275, 0.36862746, 0.36078432],\n",
       "         [0.34117648, 0.3529412 , 0.34509805],\n",
       "         ...,\n",
       "         [0.4509804 , 0.40392157, 0.5254902 ],\n",
       "         [0.4392157 , 0.3882353 , 0.5254902 ],\n",
       "         [0.42745098, 0.36862746, 0.5137255 ]],\n",
       "\n",
       "        [[0.33333334, 0.34117648, 0.33333334],\n",
       "         [0.3529412 , 0.3647059 , 0.35686275],\n",
       "         [0.35686275, 0.36862746, 0.36078432],\n",
       "         ...,\n",
       "         [0.43137255, 0.4117647 , 0.49803922],\n",
       "         [0.52156866, 0.5019608 , 0.59607846],\n",
       "         [0.54901963, 0.52156866, 0.61960787]],\n",
       "\n",
       "        ...,\n",
       "\n",
       "        [[0.6313726 , 0.6431373 , 0.6313726 ],\n",
       "         [0.7058824 , 0.72156864, 0.7137255 ],\n",
       "         [0.8       , 0.8117647 , 0.8039216 ],\n",
       "         ...,\n",
       "         [0.36078432, 0.45490196, 0.08235294],\n",
       "         [0.34117648, 0.43529412, 0.06666667],\n",
       "         [0.35686275, 0.4509804 , 0.08235294]],\n",
       "\n",
       "        [[0.80784315, 0.81960785, 0.8117647 ],\n",
       "         [0.9019608 , 0.9137255 , 0.90588236],\n",
       "         [0.9254902 , 0.9372549 , 0.92941177],\n",
       "         ...,\n",
       "         [0.37254903, 0.46666667, 0.08235294],\n",
       "         [0.37254903, 0.4627451 , 0.09019608],\n",
       "         [0.3529412 , 0.44705883, 0.07450981]],\n",
       "\n",
       "        [[0.84705883, 0.85882354, 0.8509804 ],\n",
       "         [0.91764706, 0.92941177, 0.92156863],\n",
       "         [0.88235295, 0.89411765, 0.8862745 ],\n",
       "         ...,\n",
       "         [0.37254903, 0.4627451 , 0.07843138],\n",
       "         [0.36862746, 0.45490196, 0.08627451],\n",
       "         [0.36862746, 0.4509804 , 0.09019608]]],\n",
       "\n",
       "\n",
       "       ...,\n",
       "\n",
       "\n",
       "       [[[0.73333335, 0.8156863 , 0.9254902 ],\n",
       "         [0.7411765 , 0.8235294 , 0.93333334],\n",
       "         [0.72156864, 0.80784315, 0.9098039 ],\n",
       "         ...,\n",
       "         [0.77254903, 0.83137256, 0.93333334],\n",
       "         [0.7764706 , 0.8352941 , 0.9372549 ],\n",
       "         [0.7607843 , 0.81960785, 0.92156863]],\n",
       "\n",
       "        [[0.7254902 , 0.80784315, 0.91764706],\n",
       "         [0.7372549 , 0.81960785, 0.92941177],\n",
       "         [0.74509805, 0.827451  , 0.93333334],\n",
       "         ...,\n",
       "         [0.77254903, 0.83137256, 0.93333334],\n",
       "         [0.76862746, 0.827451  , 0.93333334],\n",
       "         [0.7764706 , 0.8352941 , 0.9372549 ]],\n",
       "\n",
       "        [[0.72156864, 0.8039216 , 0.91764706],\n",
       "         [0.72156864, 0.8039216 , 0.9137255 ],\n",
       "         [0.73333335, 0.8156863 , 0.92156863],\n",
       "         ...,\n",
       "         [0.7764706 , 0.83137256, 0.93333334],\n",
       "         [0.75686276, 0.8156863 , 0.91764706],\n",
       "         [0.75686276, 0.8156863 , 0.91764706]],\n",
       "\n",
       "        ...,\n",
       "\n",
       "        [[0.8117647 , 0.8666667 , 0.9529412 ],\n",
       "         [0.80784315, 0.8627451 , 0.9490196 ],\n",
       "         [0.8117647 , 0.8666667 , 0.9529412 ],\n",
       "         ...,\n",
       "         [0.73333335, 0.7921569 , 0.8627451 ],\n",
       "         [0.72156864, 0.7764706 , 0.84705883],\n",
       "         [0.7294118 , 0.78431374, 0.85490197]],\n",
       "\n",
       "        [[0.79607844, 0.8509804 , 0.9372549 ],\n",
       "         [0.8352941 , 0.8901961 , 0.9764706 ],\n",
       "         [0.8039216 , 0.85882354, 0.94509804],\n",
       "         ...,\n",
       "         [0.80784315, 0.8666667 , 0.9411765 ],\n",
       "         [0.8235294 , 0.88235295, 0.95686275],\n",
       "         [0.8039216 , 0.8627451 , 0.9372549 ]],\n",
       "\n",
       "        [[0.8039216 , 0.85882354, 0.94509804],\n",
       "         [0.8235294 , 0.8784314 , 0.9647059 ],\n",
       "         [0.80784315, 0.8627451 , 0.9490196 ],\n",
       "         ...,\n",
       "         [0.79607844, 0.8627451 , 0.9490196 ],\n",
       "         [0.80784315, 0.8745098 , 0.95686275],\n",
       "         [0.79607844, 0.8627451 , 0.94509804]]],\n",
       "\n",
       "\n",
       "       [[[0.0627451 , 0.05882353, 0.03529412],\n",
       "         [0.13333334, 0.13725491, 0.11764706],\n",
       "         [0.16470589, 0.18431373, 0.18039216],\n",
       "         ...,\n",
       "         [0.1764706 , 0.2       , 0.2       ],\n",
       "         [0.19607843, 0.22352941, 0.21176471],\n",
       "         [0.28627452, 0.32156864, 0.30980393]],\n",
       "\n",
       "        [[0.12941177, 0.14901961, 0.13725491],\n",
       "         [0.77254903, 0.7921569 , 0.7882353 ],\n",
       "         [0.33333334, 0.3647059 , 0.37254903],\n",
       "         ...,\n",
       "         [0.21960784, 0.25490198, 0.26666668],\n",
       "         [0.24313726, 0.2784314 , 0.2901961 ],\n",
       "         [0.2509804 , 0.28627452, 0.29411766]],\n",
       "\n",
       "        [[0.1882353 , 0.21960784, 0.22745098],\n",
       "         [0.6156863 , 0.6509804 , 0.6627451 ],\n",
       "         [0.38431373, 0.42352942, 0.4509804 ],\n",
       "         ...,\n",
       "         [0.34509805, 0.38431373, 0.4117647 ],\n",
       "         [0.24705882, 0.2901961 , 0.30588236],\n",
       "         [0.18431373, 0.22352941, 0.23529412]],\n",
       "\n",
       "        ...,\n",
       "\n",
       "        [[0.6627451 , 0.6666667 , 0.68235296],\n",
       "         [0.29411766, 0.30980393, 0.3254902 ],\n",
       "         [0.2       , 0.22745098, 0.23921569],\n",
       "         ...,\n",
       "         [0.61960787, 0.6784314 , 0.69803923],\n",
       "         [0.61960787, 0.6666667 , 0.68235296],\n",
       "         [0.627451  , 0.6666667 , 0.6666667 ]],\n",
       "\n",
       "        [[0.31764707, 0.32941177, 0.33333334],\n",
       "         [0.3647059 , 0.39215687, 0.39215687],\n",
       "         [0.4117647 , 0.45490196, 0.45490196],\n",
       "         ...,\n",
       "         [0.49411765, 0.5411765 , 0.57254905],\n",
       "         [0.28627452, 0.32156864, 0.33333334],\n",
       "         [0.5764706 , 0.6       , 0.59607846]],\n",
       "\n",
       "        [[0.40392157, 0.42352942, 0.42745098],\n",
       "         [0.61960787, 0.654902  , 0.654902  ],\n",
       "         [0.40392157, 0.4509804 , 0.4509804 ],\n",
       "         ...,\n",
       "         [0.41960785, 0.45882353, 0.49803922],\n",
       "         [0.43529412, 0.45882353, 0.4745098 ],\n",
       "         [0.58431375, 0.58431375, 0.58431375]]],\n",
       "\n",
       "\n",
       "       [[[0.49411765, 0.43529412, 0.42352942],\n",
       "         [0.49411765, 0.43529412, 0.42352942],\n",
       "         [0.49411765, 0.43529412, 0.42352942],\n",
       "         ...,\n",
       "         [0.4117647 , 0.35686275, 0.30980393],\n",
       "         [0.4117647 , 0.35686275, 0.30980393],\n",
       "         [0.4117647 , 0.35686275, 0.30980393]],\n",
       "\n",
       "        [[0.4862745 , 0.43137255, 0.40784314],\n",
       "         [0.4862745 , 0.43137255, 0.40784314],\n",
       "         [0.4862745 , 0.43137255, 0.40784314],\n",
       "         ...,\n",
       "         [0.40784314, 0.3529412 , 0.30588236],\n",
       "         [0.40784314, 0.3529412 , 0.30588236],\n",
       "         [0.40784314, 0.3529412 , 0.30588236]],\n",
       "\n",
       "        [[0.47843137, 0.42352942, 0.4       ],\n",
       "         [0.47843137, 0.42352942, 0.4       ],\n",
       "         [0.47843137, 0.42352942, 0.4       ],\n",
       "         ...,\n",
       "         [0.40392157, 0.34901962, 0.3019608 ],\n",
       "         [0.40392157, 0.34901962, 0.3019608 ],\n",
       "         [0.40392157, 0.34901962, 0.3019608 ]],\n",
       "\n",
       "        ...,\n",
       "\n",
       "        [[0.37254903, 0.654902  , 0.5647059 ],\n",
       "         [0.3647059 , 0.654902  , 0.56078434],\n",
       "         [0.36078432, 0.6509804 , 0.5568628 ],\n",
       "         ...,\n",
       "         [0.25490198, 0.45882353, 0.39215687],\n",
       "         [0.5137255 , 0.7372549 , 0.6666667 ],\n",
       "         [0.49803922, 0.7294118 , 0.65882355]],\n",
       "\n",
       "        [[0.3764706 , 0.65882355, 0.5686275 ],\n",
       "         [0.36862746, 0.65882355, 0.5647059 ],\n",
       "         [0.3647059 , 0.654902  , 0.56078434],\n",
       "         ...,\n",
       "         [0.33333334, 0.5529412 , 0.48235294],\n",
       "         [0.42745098, 0.654902  , 0.58431375],\n",
       "         [0.49411765, 0.73333335, 0.6627451 ]],\n",
       "\n",
       "        [[0.38039216, 0.6627451 , 0.57254905],\n",
       "         [0.37254903, 0.6627451 , 0.5686275 ],\n",
       "         [0.36862746, 0.65882355, 0.5647059 ],\n",
       "         ...,\n",
       "         [0.44705883, 0.7294118 , 0.6431373 ],\n",
       "         [0.4627451 , 0.7490196 , 0.6627451 ],\n",
       "         [0.48235294, 0.76862746, 0.68235296]]]], dtype=float32)"
      ]
     },
     "execution_count": 4,
     "metadata": {},
     "output_type": "execute_result"
    }
   ],
   "source": [
    "images = np.array(images)\n",
    "images = images.astype('float32')/255\n",
    "images"
   ]
  },
  {
   "cell_type": "code",
   "execution_count": 5,
   "id": "83d54e1d",
   "metadata": {},
   "outputs": [
    {
     "data": {
      "text/plain": [
       "(2999, 90, 90, 3)"
      ]
     },
     "execution_count": 5,
     "metadata": {},
     "output_type": "execute_result"
    }
   ],
   "source": [
    "images.shape"
   ]
  },
  {
   "cell_type": "code",
   "execution_count": 6,
   "id": "6de21561",
   "metadata": {},
   "outputs": [],
   "source": [
    "x = images\n",
    "y = labels"
   ]
  },
  {
   "cell_type": "code",
   "execution_count": 7,
   "id": "b8786342",
   "metadata": {},
   "outputs": [],
   "source": [
    "l_encoder = LabelEncoder()\n",
    "y = l_encoder.fit_transform(y)"
   ]
  },
  {
   "cell_type": "code",
   "execution_count": 8,
   "id": "fb482844",
   "metadata": {},
   "outputs": [
    {
     "data": {
      "text/plain": [
       "array([0, 0, 0, ..., 2, 2, 2], dtype=int64)"
      ]
     },
     "execution_count": 8,
     "metadata": {},
     "output_type": "execute_result"
    }
   ],
   "source": [
    "y"
   ]
  },
  {
   "cell_type": "code",
   "execution_count": 9,
   "id": "f4006f42",
   "metadata": {},
   "outputs": [],
   "source": [
    "from sklearn.utils import shuffle\n",
    "from sklearn.model_selection import train_test_split"
   ]
  },
  {
   "cell_type": "code",
   "execution_count": 10,
   "id": "d116f15a",
   "metadata": {},
   "outputs": [
    {
     "name": "stdout",
     "output_type": "stream",
     "text": [
      "(2009, 90, 90, 3)\n",
      "(2009,)\n",
      "(990, 90, 90, 3)\n",
      "(990,)\n"
     ]
    }
   ],
   "source": [
    "x, y = shuffle(x, y, random_state=30)\n",
    "X_train, X_test, y_train, y_test = train_test_split(x, y, test_size=0.33, random_state=42)\n",
    "\n",
    "print(X_train.shape)\n",
    "print(y_train.shape)\n",
    "print(X_test.shape)\n",
    "print(y_test.shape)"
   ]
  },
  {
   "cell_type": "code",
   "execution_count": 11,
   "id": "dbc44f8f",
   "metadata": {},
   "outputs": [
    {
     "name": "stderr",
     "output_type": "stream",
     "text": [
      "C:\\Users\\debku\\AppData\\Roaming\\Python\\Python311\\site-packages\\keras\\src\\layers\\convolutional\\base_conv.py:107: UserWarning: Do not pass an `input_shape`/`input_dim` argument to a layer. When using Sequential models, prefer using an `Input(shape)` object as the first layer in the model instead.\n",
      "  super().__init__(activity_regularizer=activity_regularizer, **kwargs)\n"
     ]
    }
   ],
   "source": [
    "model = keras.Sequential([\n",
    "    keras.layers.Conv2D(32, (3, 3), activation='relu', input_shape=(90, 90, 3)),\n",
    "    keras.layers.MaxPooling2D((2, 2)),\n",
    "    keras.layers.Conv2D(64, (3, 3), activation='relu'),\n",
    "    keras.layers.MaxPooling2D((2, 2)),\n",
    "    keras.layers.Flatten(),\n",
    "    keras.layers.Dense(128, activation='relu'),\n",
    "    keras.layers.Dense(3, activation='softmax')  # Output layer for 3 classes\n",
    "])\n"
   ]
  },
  {
   "cell_type": "code",
   "execution_count": 12,
   "id": "ef49395a",
   "metadata": {},
   "outputs": [
    {
     "data": {
      "text/html": [
       "<pre style=\"white-space:pre;overflow-x:auto;line-height:normal;font-family:Menlo,'DejaVu Sans Mono',consolas,'Courier New',monospace\"><span style=\"font-weight: bold\">Model: \"sequential\"</span>\n",
       "</pre>\n"
      ],
      "text/plain": [
       "\u001b[1mModel: \"sequential\"\u001b[0m\n"
      ]
     },
     "metadata": {},
     "output_type": "display_data"
    },
    {
     "data": {
      "text/html": [
       "<pre style=\"white-space:pre;overflow-x:auto;line-height:normal;font-family:Menlo,'DejaVu Sans Mono',consolas,'Courier New',monospace\">┏━━━━━━━━━━━━━━━━━━━━━━━━━━━━━━━━━━━━━━┳━━━━━━━━━━━━━━━━━━━━━━━━━━━━━┳━━━━━━━━━━━━━━━━━┓\n",
       "┃<span style=\"font-weight: bold\"> Layer (type)                         </span>┃<span style=\"font-weight: bold\"> Output Shape                </span>┃<span style=\"font-weight: bold\">         Param # </span>┃\n",
       "┡━━━━━━━━━━━━━━━━━━━━━━━━━━━━━━━━━━━━━━╇━━━━━━━━━━━━━━━━━━━━━━━━━━━━━╇━━━━━━━━━━━━━━━━━┩\n",
       "│ conv2d (<span style=\"color: #0087ff; text-decoration-color: #0087ff\">Conv2D</span>)                      │ (<span style=\"color: #00d7ff; text-decoration-color: #00d7ff\">None</span>, <span style=\"color: #00af00; text-decoration-color: #00af00\">88</span>, <span style=\"color: #00af00; text-decoration-color: #00af00\">88</span>, <span style=\"color: #00af00; text-decoration-color: #00af00\">32</span>)          │             <span style=\"color: #00af00; text-decoration-color: #00af00\">896</span> │\n",
       "├──────────────────────────────────────┼─────────────────────────────┼─────────────────┤\n",
       "│ max_pooling2d (<span style=\"color: #0087ff; text-decoration-color: #0087ff\">MaxPooling2D</span>)         │ (<span style=\"color: #00d7ff; text-decoration-color: #00d7ff\">None</span>, <span style=\"color: #00af00; text-decoration-color: #00af00\">44</span>, <span style=\"color: #00af00; text-decoration-color: #00af00\">44</span>, <span style=\"color: #00af00; text-decoration-color: #00af00\">32</span>)          │               <span style=\"color: #00af00; text-decoration-color: #00af00\">0</span> │\n",
       "├──────────────────────────────────────┼─────────────────────────────┼─────────────────┤\n",
       "│ conv2d_1 (<span style=\"color: #0087ff; text-decoration-color: #0087ff\">Conv2D</span>)                    │ (<span style=\"color: #00d7ff; text-decoration-color: #00d7ff\">None</span>, <span style=\"color: #00af00; text-decoration-color: #00af00\">42</span>, <span style=\"color: #00af00; text-decoration-color: #00af00\">42</span>, <span style=\"color: #00af00; text-decoration-color: #00af00\">64</span>)          │          <span style=\"color: #00af00; text-decoration-color: #00af00\">18,496</span> │\n",
       "├──────────────────────────────────────┼─────────────────────────────┼─────────────────┤\n",
       "│ max_pooling2d_1 (<span style=\"color: #0087ff; text-decoration-color: #0087ff\">MaxPooling2D</span>)       │ (<span style=\"color: #00d7ff; text-decoration-color: #00d7ff\">None</span>, <span style=\"color: #00af00; text-decoration-color: #00af00\">21</span>, <span style=\"color: #00af00; text-decoration-color: #00af00\">21</span>, <span style=\"color: #00af00; text-decoration-color: #00af00\">64</span>)          │               <span style=\"color: #00af00; text-decoration-color: #00af00\">0</span> │\n",
       "├──────────────────────────────────────┼─────────────────────────────┼─────────────────┤\n",
       "│ flatten (<span style=\"color: #0087ff; text-decoration-color: #0087ff\">Flatten</span>)                    │ (<span style=\"color: #00d7ff; text-decoration-color: #00d7ff\">None</span>, <span style=\"color: #00af00; text-decoration-color: #00af00\">28224</span>)               │               <span style=\"color: #00af00; text-decoration-color: #00af00\">0</span> │\n",
       "├──────────────────────────────────────┼─────────────────────────────┼─────────────────┤\n",
       "│ dense (<span style=\"color: #0087ff; text-decoration-color: #0087ff\">Dense</span>)                        │ (<span style=\"color: #00d7ff; text-decoration-color: #00d7ff\">None</span>, <span style=\"color: #00af00; text-decoration-color: #00af00\">128</span>)                 │       <span style=\"color: #00af00; text-decoration-color: #00af00\">3,612,800</span> │\n",
       "├──────────────────────────────────────┼─────────────────────────────┼─────────────────┤\n",
       "│ dense_1 (<span style=\"color: #0087ff; text-decoration-color: #0087ff\">Dense</span>)                      │ (<span style=\"color: #00d7ff; text-decoration-color: #00d7ff\">None</span>, <span style=\"color: #00af00; text-decoration-color: #00af00\">3</span>)                   │             <span style=\"color: #00af00; text-decoration-color: #00af00\">387</span> │\n",
       "└──────────────────────────────────────┴─────────────────────────────┴─────────────────┘\n",
       "</pre>\n"
      ],
      "text/plain": [
       "┏━━━━━━━━━━━━━━━━━━━━━━━━━━━━━━━━━━━━━━┳━━━━━━━━━━━━━━━━━━━━━━━━━━━━━┳━━━━━━━━━━━━━━━━━┓\n",
       "┃\u001b[1m \u001b[0m\u001b[1mLayer (type)                        \u001b[0m\u001b[1m \u001b[0m┃\u001b[1m \u001b[0m\u001b[1mOutput Shape               \u001b[0m\u001b[1m \u001b[0m┃\u001b[1m \u001b[0m\u001b[1m        Param #\u001b[0m\u001b[1m \u001b[0m┃\n",
       "┡━━━━━━━━━━━━━━━━━━━━━━━━━━━━━━━━━━━━━━╇━━━━━━━━━━━━━━━━━━━━━━━━━━━━━╇━━━━━━━━━━━━━━━━━┩\n",
       "│ conv2d (\u001b[38;5;33mConv2D\u001b[0m)                      │ (\u001b[38;5;45mNone\u001b[0m, \u001b[38;5;34m88\u001b[0m, \u001b[38;5;34m88\u001b[0m, \u001b[38;5;34m32\u001b[0m)          │             \u001b[38;5;34m896\u001b[0m │\n",
       "├──────────────────────────────────────┼─────────────────────────────┼─────────────────┤\n",
       "│ max_pooling2d (\u001b[38;5;33mMaxPooling2D\u001b[0m)         │ (\u001b[38;5;45mNone\u001b[0m, \u001b[38;5;34m44\u001b[0m, \u001b[38;5;34m44\u001b[0m, \u001b[38;5;34m32\u001b[0m)          │               \u001b[38;5;34m0\u001b[0m │\n",
       "├──────────────────────────────────────┼─────────────────────────────┼─────────────────┤\n",
       "│ conv2d_1 (\u001b[38;5;33mConv2D\u001b[0m)                    │ (\u001b[38;5;45mNone\u001b[0m, \u001b[38;5;34m42\u001b[0m, \u001b[38;5;34m42\u001b[0m, \u001b[38;5;34m64\u001b[0m)          │          \u001b[38;5;34m18,496\u001b[0m │\n",
       "├──────────────────────────────────────┼─────────────────────────────┼─────────────────┤\n",
       "│ max_pooling2d_1 (\u001b[38;5;33mMaxPooling2D\u001b[0m)       │ (\u001b[38;5;45mNone\u001b[0m, \u001b[38;5;34m21\u001b[0m, \u001b[38;5;34m21\u001b[0m, \u001b[38;5;34m64\u001b[0m)          │               \u001b[38;5;34m0\u001b[0m │\n",
       "├──────────────────────────────────────┼─────────────────────────────┼─────────────────┤\n",
       "│ flatten (\u001b[38;5;33mFlatten\u001b[0m)                    │ (\u001b[38;5;45mNone\u001b[0m, \u001b[38;5;34m28224\u001b[0m)               │               \u001b[38;5;34m0\u001b[0m │\n",
       "├──────────────────────────────────────┼─────────────────────────────┼─────────────────┤\n",
       "│ dense (\u001b[38;5;33mDense\u001b[0m)                        │ (\u001b[38;5;45mNone\u001b[0m, \u001b[38;5;34m128\u001b[0m)                 │       \u001b[38;5;34m3,612,800\u001b[0m │\n",
       "├──────────────────────────────────────┼─────────────────────────────┼─────────────────┤\n",
       "│ dense_1 (\u001b[38;5;33mDense\u001b[0m)                      │ (\u001b[38;5;45mNone\u001b[0m, \u001b[38;5;34m3\u001b[0m)                   │             \u001b[38;5;34m387\u001b[0m │\n",
       "└──────────────────────────────────────┴─────────────────────────────┴─────────────────┘\n"
      ]
     },
     "metadata": {},
     "output_type": "display_data"
    },
    {
     "data": {
      "text/html": [
       "<pre style=\"white-space:pre;overflow-x:auto;line-height:normal;font-family:Menlo,'DejaVu Sans Mono',consolas,'Courier New',monospace\"><span style=\"font-weight: bold\"> Total params: </span><span style=\"color: #00af00; text-decoration-color: #00af00\">3,632,579</span> (13.86 MB)\n",
       "</pre>\n"
      ],
      "text/plain": [
       "\u001b[1m Total params: \u001b[0m\u001b[38;5;34m3,632,579\u001b[0m (13.86 MB)\n"
      ]
     },
     "metadata": {},
     "output_type": "display_data"
    },
    {
     "data": {
      "text/html": [
       "<pre style=\"white-space:pre;overflow-x:auto;line-height:normal;font-family:Menlo,'DejaVu Sans Mono',consolas,'Courier New',monospace\"><span style=\"font-weight: bold\"> Trainable params: </span><span style=\"color: #00af00; text-decoration-color: #00af00\">3,632,579</span> (13.86 MB)\n",
       "</pre>\n"
      ],
      "text/plain": [
       "\u001b[1m Trainable params: \u001b[0m\u001b[38;5;34m3,632,579\u001b[0m (13.86 MB)\n"
      ]
     },
     "metadata": {},
     "output_type": "display_data"
    },
    {
     "data": {
      "text/html": [
       "<pre style=\"white-space:pre;overflow-x:auto;line-height:normal;font-family:Menlo,'DejaVu Sans Mono',consolas,'Courier New',monospace\"><span style=\"font-weight: bold\"> Non-trainable params: </span><span style=\"color: #00af00; text-decoration-color: #00af00\">0</span> (0.00 B)\n",
       "</pre>\n"
      ],
      "text/plain": [
       "\u001b[1m Non-trainable params: \u001b[0m\u001b[38;5;34m0\u001b[0m (0.00 B)\n"
      ]
     },
     "metadata": {},
     "output_type": "display_data"
    }
   ],
   "source": [
    "model.summary()"
   ]
  },
  {
   "cell_type": "code",
   "execution_count": 13,
   "id": "e491663c",
   "metadata": {},
   "outputs": [],
   "source": [
    "model.compile(optimizer=keras.optimizers.Adam(learning_rate=1e-3),\n",
    "    loss=keras.losses.SparseCategoricalCrossentropy(from_logits=False),\n",
    "    metrics=['accuracy'\n",
    "    ])"
   ]
  },
  {
   "cell_type": "code",
   "execution_count": 14,
   "id": "b7caa9e6",
   "metadata": {},
   "outputs": [
    {
     "name": "stdout",
     "output_type": "stream",
     "text": [
      "Epoch 1/100\n",
      "\u001b[1m63/63\u001b[0m \u001b[32m━━━━━━━━━━━━━━━━━━━━\u001b[0m\u001b[37m\u001b[0m \u001b[1m14s\u001b[0m 174ms/step - accuracy: 0.3868 - loss: 1.5750\n",
      "Epoch 2/100\n",
      "\u001b[1m63/63\u001b[0m \u001b[32m━━━━━━━━━━━━━━━━━━━━\u001b[0m\u001b[37m\u001b[0m \u001b[1m10s\u001b[0m 163ms/step - accuracy: 0.5952 - loss: 0.8475\n",
      "Epoch 3/100\n",
      "\u001b[1m63/63\u001b[0m \u001b[32m━━━━━━━━━━━━━━━━━━━━\u001b[0m\u001b[37m\u001b[0m \u001b[1m11s\u001b[0m 169ms/step - accuracy: 0.6781 - loss: 0.6897\n",
      "Epoch 4/100\n",
      "\u001b[1m63/63\u001b[0m \u001b[32m━━━━━━━━━━━━━━━━━━━━\u001b[0m\u001b[37m\u001b[0m \u001b[1m10s\u001b[0m 158ms/step - accuracy: 0.7472 - loss: 0.5774\n",
      "Epoch 5/100\n",
      "\u001b[1m63/63\u001b[0m \u001b[32m━━━━━━━━━━━━━━━━━━━━\u001b[0m\u001b[37m\u001b[0m \u001b[1m11s\u001b[0m 175ms/step - accuracy: 0.8157 - loss: 0.4974\n",
      "Epoch 6/100\n",
      "\u001b[1m63/63\u001b[0m \u001b[32m━━━━━━━━━━━━━━━━━━━━\u001b[0m\u001b[37m\u001b[0m \u001b[1m10s\u001b[0m 165ms/step - accuracy: 0.8736 - loss: 0.3299\n",
      "Epoch 7/100\n",
      "\u001b[1m63/63\u001b[0m \u001b[32m━━━━━━━━━━━━━━━━━━━━\u001b[0m\u001b[37m\u001b[0m \u001b[1m15s\u001b[0m 235ms/step - accuracy: 0.9168 - loss: 0.2374\n",
      "Epoch 8/100\n",
      "\u001b[1m63/63\u001b[0m \u001b[32m━━━━━━━━━━━━━━━━━━━━\u001b[0m\u001b[37m\u001b[0m \u001b[1m12s\u001b[0m 182ms/step - accuracy: 0.9451 - loss: 0.1569\n",
      "Epoch 9/100\n",
      "\u001b[1m63/63\u001b[0m \u001b[32m━━━━━━━━━━━━━━━━━━━━\u001b[0m\u001b[37m\u001b[0m \u001b[1m12s\u001b[0m 184ms/step - accuracy: 0.9639 - loss: 0.1221\n",
      "Epoch 10/100\n",
      "\u001b[1m63/63\u001b[0m \u001b[32m━━━━━━━━━━━━━━━━━━━━\u001b[0m\u001b[37m\u001b[0m \u001b[1m12s\u001b[0m 185ms/step - accuracy: 0.9800 - loss: 0.0785\n",
      "Epoch 11/100\n",
      "\u001b[1m63/63\u001b[0m \u001b[32m━━━━━━━━━━━━━━━━━━━━\u001b[0m\u001b[37m\u001b[0m \u001b[1m14s\u001b[0m 217ms/step - accuracy: 0.9957 - loss: 0.0356\n",
      "Epoch 12/100\n",
      "\u001b[1m63/63\u001b[0m \u001b[32m━━━━━━━━━━━━━━━━━━━━\u001b[0m\u001b[37m\u001b[0m \u001b[1m12s\u001b[0m 185ms/step - accuracy: 0.9952 - loss: 0.0237\n",
      "Epoch 13/100\n",
      "\u001b[1m63/63\u001b[0m \u001b[32m━━━━━━━━━━━━━━━━━━━━\u001b[0m\u001b[37m\u001b[0m \u001b[1m11s\u001b[0m 182ms/step - accuracy: 0.9996 - loss: 0.0164\n",
      "Epoch 14/100\n",
      "\u001b[1m63/63\u001b[0m \u001b[32m━━━━━━━━━━━━━━━━━━━━\u001b[0m\u001b[37m\u001b[0m \u001b[1m12s\u001b[0m 197ms/step - accuracy: 1.0000 - loss: 0.0085\n",
      "Epoch 15/100\n",
      "\u001b[1m63/63\u001b[0m \u001b[32m━━━━━━━━━━━━━━━━━━━━\u001b[0m\u001b[37m\u001b[0m \u001b[1m12s\u001b[0m 192ms/step - accuracy: 1.0000 - loss: 0.0045\n",
      "Epoch 16/100\n",
      "\u001b[1m63/63\u001b[0m \u001b[32m━━━━━━━━━━━━━━━━━━━━\u001b[0m\u001b[37m\u001b[0m \u001b[1m11s\u001b[0m 177ms/step - accuracy: 1.0000 - loss: 0.0028\n",
      "Epoch 17/100\n",
      "\u001b[1m63/63\u001b[0m \u001b[32m━━━━━━━━━━━━━━━━━━━━\u001b[0m\u001b[37m\u001b[0m \u001b[1m13s\u001b[0m 199ms/step - accuracy: 1.0000 - loss: 0.0025\n",
      "Epoch 18/100\n",
      "\u001b[1m63/63\u001b[0m \u001b[32m━━━━━━━━━━━━━━━━━━━━\u001b[0m\u001b[37m\u001b[0m \u001b[1m13s\u001b[0m 199ms/step - accuracy: 1.0000 - loss: 0.0019\n",
      "Epoch 19/100\n",
      "\u001b[1m63/63\u001b[0m \u001b[32m━━━━━━━━━━━━━━━━━━━━\u001b[0m\u001b[37m\u001b[0m \u001b[1m11s\u001b[0m 176ms/step - accuracy: 1.0000 - loss: 0.0015\n",
      "Epoch 20/100\n",
      "\u001b[1m63/63\u001b[0m \u001b[32m━━━━━━━━━━━━━━━━━━━━\u001b[0m\u001b[37m\u001b[0m \u001b[1m12s\u001b[0m 184ms/step - accuracy: 1.0000 - loss: 0.0012\n",
      "Epoch 21/100\n",
      "\u001b[1m63/63\u001b[0m \u001b[32m━━━━━━━━━━━━━━━━━━━━\u001b[0m\u001b[37m\u001b[0m \u001b[1m12s\u001b[0m 189ms/step - accuracy: 1.0000 - loss: 9.1248e-04\n",
      "Epoch 22/100\n",
      "\u001b[1m63/63\u001b[0m \u001b[32m━━━━━━━━━━━━━━━━━━━━\u001b[0m\u001b[37m\u001b[0m \u001b[1m11s\u001b[0m 172ms/step - accuracy: 1.0000 - loss: 8.3093e-04\n",
      "Epoch 23/100\n",
      "\u001b[1m63/63\u001b[0m \u001b[32m━━━━━━━━━━━━━━━━━━━━\u001b[0m\u001b[37m\u001b[0m \u001b[1m11s\u001b[0m 176ms/step - accuracy: 1.0000 - loss: 8.0250e-04\n",
      "Epoch 24/100\n",
      "\u001b[1m63/63\u001b[0m \u001b[32m━━━━━━━━━━━━━━━━━━━━\u001b[0m\u001b[37m\u001b[0m \u001b[1m12s\u001b[0m 192ms/step - accuracy: 1.0000 - loss: 6.7879e-04\n",
      "Epoch 25/100\n",
      "\u001b[1m63/63\u001b[0m \u001b[32m━━━━━━━━━━━━━━━━━━━━\u001b[0m\u001b[37m\u001b[0m \u001b[1m11s\u001b[0m 174ms/step - accuracy: 1.0000 - loss: 5.3364e-04\n",
      "Epoch 26/100\n",
      "\u001b[1m63/63\u001b[0m \u001b[32m━━━━━━━━━━━━━━━━━━━━\u001b[0m\u001b[37m\u001b[0m \u001b[1m11s\u001b[0m 171ms/step - accuracy: 1.0000 - loss: 5.3682e-04\n",
      "Epoch 27/100\n",
      "\u001b[1m63/63\u001b[0m \u001b[32m━━━━━━━━━━━━━━━━━━━━\u001b[0m\u001b[37m\u001b[0m \u001b[1m12s\u001b[0m 193ms/step - accuracy: 1.0000 - loss: 4.5698e-04\n",
      "Epoch 28/100\n",
      "\u001b[1m63/63\u001b[0m \u001b[32m━━━━━━━━━━━━━━━━━━━━\u001b[0m\u001b[37m\u001b[0m \u001b[1m12s\u001b[0m 184ms/step - accuracy: 1.0000 - loss: 4.1353e-04\n",
      "Epoch 29/100\n",
      "\u001b[1m63/63\u001b[0m \u001b[32m━━━━━━━━━━━━━━━━━━━━\u001b[0m\u001b[37m\u001b[0m \u001b[1m12s\u001b[0m 182ms/step - accuracy: 1.0000 - loss: 4.4477e-04\n",
      "Epoch 30/100\n",
      "\u001b[1m63/63\u001b[0m \u001b[32m━━━━━━━━━━━━━━━━━━━━\u001b[0m\u001b[37m\u001b[0m \u001b[1m12s\u001b[0m 188ms/step - accuracy: 1.0000 - loss: 3.4156e-04\n",
      "Epoch 31/100\n",
      "\u001b[1m63/63\u001b[0m \u001b[32m━━━━━━━━━━━━━━━━━━━━\u001b[0m\u001b[37m\u001b[0m \u001b[1m12s\u001b[0m 193ms/step - accuracy: 1.0000 - loss: 3.4015e-04\n",
      "Epoch 32/100\n",
      "\u001b[1m63/63\u001b[0m \u001b[32m━━━━━━━━━━━━━━━━━━━━\u001b[0m\u001b[37m\u001b[0m \u001b[1m12s\u001b[0m 192ms/step - accuracy: 1.0000 - loss: 2.6521e-04\n",
      "Epoch 33/100\n",
      "\u001b[1m63/63\u001b[0m \u001b[32m━━━━━━━━━━━━━━━━━━━━\u001b[0m\u001b[37m\u001b[0m \u001b[1m12s\u001b[0m 184ms/step - accuracy: 1.0000 - loss: 2.5261e-04\n",
      "Epoch 34/100\n",
      "\u001b[1m63/63\u001b[0m \u001b[32m━━━━━━━━━━━━━━━━━━━━\u001b[0m\u001b[37m\u001b[0m \u001b[1m13s\u001b[0m 198ms/step - accuracy: 1.0000 - loss: 2.3263e-04\n",
      "Epoch 35/100\n",
      "\u001b[1m63/63\u001b[0m \u001b[32m━━━━━━━━━━━━━━━━━━━━\u001b[0m\u001b[37m\u001b[0m \u001b[1m12s\u001b[0m 188ms/step - accuracy: 1.0000 - loss: 2.1317e-04\n",
      "Epoch 36/100\n",
      "\u001b[1m63/63\u001b[0m \u001b[32m━━━━━━━━━━━━━━━━━━━━\u001b[0m\u001b[37m\u001b[0m \u001b[1m12s\u001b[0m 187ms/step - accuracy: 1.0000 - loss: 2.0251e-04\n",
      "Epoch 37/100\n",
      "\u001b[1m63/63\u001b[0m \u001b[32m━━━━━━━━━━━━━━━━━━━━\u001b[0m\u001b[37m\u001b[0m \u001b[1m12s\u001b[0m 197ms/step - accuracy: 1.0000 - loss: 1.8096e-04\n",
      "Epoch 38/100\n",
      "\u001b[1m63/63\u001b[0m \u001b[32m━━━━━━━━━━━━━━━━━━━━\u001b[0m\u001b[37m\u001b[0m \u001b[1m12s\u001b[0m 186ms/step - accuracy: 1.0000 - loss: 1.7959e-04\n",
      "Epoch 39/100\n",
      "\u001b[1m63/63\u001b[0m \u001b[32m━━━━━━━━━━━━━━━━━━━━\u001b[0m\u001b[37m\u001b[0m \u001b[1m13s\u001b[0m 203ms/step - accuracy: 1.0000 - loss: 1.6241e-04\n",
      "Epoch 40/100\n",
      "\u001b[1m63/63\u001b[0m \u001b[32m━━━━━━━━━━━━━━━━━━━━\u001b[0m\u001b[37m\u001b[0m \u001b[1m12s\u001b[0m 196ms/step - accuracy: 1.0000 - loss: 1.3937e-04\n",
      "Epoch 41/100\n",
      "\u001b[1m63/63\u001b[0m \u001b[32m━━━━━━━━━━━━━━━━━━━━\u001b[0m\u001b[37m\u001b[0m \u001b[1m12s\u001b[0m 190ms/step - accuracy: 1.0000 - loss: 1.3912e-04\n",
      "Epoch 42/100\n",
      "\u001b[1m63/63\u001b[0m \u001b[32m━━━━━━━━━━━━━━━━━━━━\u001b[0m\u001b[37m\u001b[0m \u001b[1m12s\u001b[0m 195ms/step - accuracy: 1.0000 - loss: 1.2468e-04\n",
      "Epoch 43/100\n",
      "\u001b[1m63/63\u001b[0m \u001b[32m━━━━━━━━━━━━━━━━━━━━\u001b[0m\u001b[37m\u001b[0m \u001b[1m12s\u001b[0m 189ms/step - accuracy: 1.0000 - loss: 1.1476e-04\n",
      "Epoch 44/100\n",
      "\u001b[1m63/63\u001b[0m \u001b[32m━━━━━━━━━━━━━━━━━━━━\u001b[0m\u001b[37m\u001b[0m \u001b[1m11s\u001b[0m 174ms/step - accuracy: 1.0000 - loss: 1.1217e-04\n",
      "Epoch 45/100\n",
      "\u001b[1m63/63\u001b[0m \u001b[32m━━━━━━━━━━━━━━━━━━━━\u001b[0m\u001b[37m\u001b[0m \u001b[1m11s\u001b[0m 177ms/step - accuracy: 1.0000 - loss: 1.0813e-04\n",
      "Epoch 46/100\n",
      "\u001b[1m63/63\u001b[0m \u001b[32m━━━━━━━━━━━━━━━━━━━━\u001b[0m\u001b[37m\u001b[0m \u001b[1m11s\u001b[0m 177ms/step - accuracy: 1.0000 - loss: 8.9499e-05\n",
      "Epoch 47/100\n",
      "\u001b[1m63/63\u001b[0m \u001b[32m━━━━━━━━━━━━━━━━━━━━\u001b[0m\u001b[37m\u001b[0m \u001b[1m12s\u001b[0m 189ms/step - accuracy: 1.0000 - loss: 7.8964e-05\n",
      "Epoch 48/100\n",
      "\u001b[1m63/63\u001b[0m \u001b[32m━━━━━━━━━━━━━━━━━━━━\u001b[0m\u001b[37m\u001b[0m \u001b[1m13s\u001b[0m 199ms/step - accuracy: 1.0000 - loss: 7.9354e-05\n",
      "Epoch 49/100\n",
      "\u001b[1m63/63\u001b[0m \u001b[32m━━━━━━━━━━━━━━━━━━━━\u001b[0m\u001b[37m\u001b[0m \u001b[1m12s\u001b[0m 195ms/step - accuracy: 1.0000 - loss: 8.3251e-05\n",
      "Epoch 50/100\n",
      "\u001b[1m63/63\u001b[0m \u001b[32m━━━━━━━━━━━━━━━━━━━━\u001b[0m\u001b[37m\u001b[0m \u001b[1m13s\u001b[0m 197ms/step - accuracy: 1.0000 - loss: 7.1608e-05\n",
      "Epoch 51/100\n",
      "\u001b[1m63/63\u001b[0m \u001b[32m━━━━━━━━━━━━━━━━━━━━\u001b[0m\u001b[37m\u001b[0m \u001b[1m12s\u001b[0m 186ms/step - accuracy: 1.0000 - loss: 7.1465e-05\n",
      "Epoch 52/100\n",
      "\u001b[1m63/63\u001b[0m \u001b[32m━━━━━━━━━━━━━━━━━━━━\u001b[0m\u001b[37m\u001b[0m \u001b[1m12s\u001b[0m 183ms/step - accuracy: 1.0000 - loss: 6.1486e-05\n",
      "Epoch 53/100\n",
      "\u001b[1m63/63\u001b[0m \u001b[32m━━━━━━━━━━━━━━━━━━━━\u001b[0m\u001b[37m\u001b[0m \u001b[1m12s\u001b[0m 189ms/step - accuracy: 1.0000 - loss: 5.8468e-05\n",
      "Epoch 54/100\n",
      "\u001b[1m63/63\u001b[0m \u001b[32m━━━━━━━━━━━━━━━━━━━━\u001b[0m\u001b[37m\u001b[0m \u001b[1m12s\u001b[0m 192ms/step - accuracy: 1.0000 - loss: 5.3172e-05\n",
      "Epoch 55/100\n",
      "\u001b[1m63/63\u001b[0m \u001b[32m━━━━━━━━━━━━━━━━━━━━\u001b[0m\u001b[37m\u001b[0m \u001b[1m12s\u001b[0m 185ms/step - accuracy: 1.0000 - loss: 5.0685e-05\n",
      "Epoch 56/100\n",
      "\u001b[1m63/63\u001b[0m \u001b[32m━━━━━━━━━━━━━━━━━━━━\u001b[0m\u001b[37m\u001b[0m \u001b[1m12s\u001b[0m 187ms/step - accuracy: 1.0000 - loss: 5.0945e-05\n",
      "Epoch 57/100\n",
      "\u001b[1m63/63\u001b[0m \u001b[32m━━━━━━━━━━━━━━━━━━━━\u001b[0m\u001b[37m\u001b[0m \u001b[1m12s\u001b[0m 183ms/step - accuracy: 1.0000 - loss: 4.7884e-05\n",
      "Epoch 58/100\n",
      "\u001b[1m63/63\u001b[0m \u001b[32m━━━━━━━━━━━━━━━━━━━━\u001b[0m\u001b[37m\u001b[0m \u001b[1m11s\u001b[0m 181ms/step - accuracy: 1.0000 - loss: 4.7200e-05\n",
      "Epoch 59/100\n",
      "\u001b[1m63/63\u001b[0m \u001b[32m━━━━━━━━━━━━━━━━━━━━\u001b[0m\u001b[37m\u001b[0m \u001b[1m11s\u001b[0m 180ms/step - accuracy: 1.0000 - loss: 4.1753e-05\n",
      "Epoch 60/100\n",
      "\u001b[1m63/63\u001b[0m \u001b[32m━━━━━━━━━━━━━━━━━━━━\u001b[0m\u001b[37m\u001b[0m \u001b[1m12s\u001b[0m 187ms/step - accuracy: 1.0000 - loss: 3.9940e-05\n",
      "Epoch 61/100\n",
      "\u001b[1m63/63\u001b[0m \u001b[32m━━━━━━━━━━━━━━━━━━━━\u001b[0m\u001b[37m\u001b[0m \u001b[1m11s\u001b[0m 180ms/step - accuracy: 1.0000 - loss: 3.8935e-05\n",
      "Epoch 62/100\n",
      "\u001b[1m63/63\u001b[0m \u001b[32m━━━━━━━━━━━━━━━━━━━━\u001b[0m\u001b[37m\u001b[0m \u001b[1m11s\u001b[0m 179ms/step - accuracy: 1.0000 - loss: 3.3647e-05\n",
      "Epoch 63/100\n",
      "\u001b[1m63/63\u001b[0m \u001b[32m━━━━━━━━━━━━━━━━━━━━\u001b[0m\u001b[37m\u001b[0m \u001b[1m11s\u001b[0m 181ms/step - accuracy: 1.0000 - loss: 2.9933e-05\n",
      "Epoch 64/100\n",
      "\u001b[1m63/63\u001b[0m \u001b[32m━━━━━━━━━━━━━━━━━━━━\u001b[0m\u001b[37m\u001b[0m \u001b[1m12s\u001b[0m 193ms/step - accuracy: 1.0000 - loss: 3.0107e-05\n",
      "Epoch 65/100\n",
      "\u001b[1m63/63\u001b[0m \u001b[32m━━━━━━━━━━━━━━━━━━━━\u001b[0m\u001b[37m\u001b[0m \u001b[1m12s\u001b[0m 192ms/step - accuracy: 1.0000 - loss: 2.9468e-05\n",
      "Epoch 66/100\n"
     ]
    },
    {
     "name": "stdout",
     "output_type": "stream",
     "text": [
      "\u001b[1m63/63\u001b[0m \u001b[32m━━━━━━━━━━━━━━━━━━━━\u001b[0m\u001b[37m\u001b[0m \u001b[1m12s\u001b[0m 197ms/step - accuracy: 1.0000 - loss: 2.7295e-05\n",
      "Epoch 67/100\n",
      "\u001b[1m63/63\u001b[0m \u001b[32m━━━━━━━━━━━━━━━━━━━━\u001b[0m\u001b[37m\u001b[0m \u001b[1m12s\u001b[0m 196ms/step - accuracy: 1.0000 - loss: 2.4471e-05\n",
      "Epoch 68/100\n",
      "\u001b[1m63/63\u001b[0m \u001b[32m━━━━━━━━━━━━━━━━━━━━\u001b[0m\u001b[37m\u001b[0m \u001b[1m12s\u001b[0m 187ms/step - accuracy: 1.0000 - loss: 2.6274e-05\n",
      "Epoch 69/100\n",
      "\u001b[1m63/63\u001b[0m \u001b[32m━━━━━━━━━━━━━━━━━━━━\u001b[0m\u001b[37m\u001b[0m \u001b[1m12s\u001b[0m 184ms/step - accuracy: 1.0000 - loss: 2.2598e-05\n",
      "Epoch 70/100\n",
      "\u001b[1m63/63\u001b[0m \u001b[32m━━━━━━━━━━━━━━━━━━━━\u001b[0m\u001b[37m\u001b[0m \u001b[1m12s\u001b[0m 189ms/step - accuracy: 1.0000 - loss: 2.1997e-05\n",
      "Epoch 71/100\n",
      "\u001b[1m63/63\u001b[0m \u001b[32m━━━━━━━━━━━━━━━━━━━━\u001b[0m\u001b[37m\u001b[0m \u001b[1m11s\u001b[0m 175ms/step - accuracy: 1.0000 - loss: 2.2412e-05\n",
      "Epoch 72/100\n",
      "\u001b[1m63/63\u001b[0m \u001b[32m━━━━━━━━━━━━━━━━━━━━\u001b[0m\u001b[37m\u001b[0m \u001b[1m13s\u001b[0m 199ms/step - accuracy: 1.0000 - loss: 2.2111e-05\n",
      "Epoch 73/100\n",
      "\u001b[1m63/63\u001b[0m \u001b[32m━━━━━━━━━━━━━━━━━━━━\u001b[0m\u001b[37m\u001b[0m \u001b[1m11s\u001b[0m 175ms/step - accuracy: 1.0000 - loss: 1.8646e-05\n",
      "Epoch 74/100\n",
      "\u001b[1m63/63\u001b[0m \u001b[32m━━━━━━━━━━━━━━━━━━━━\u001b[0m\u001b[37m\u001b[0m \u001b[1m13s\u001b[0m 202ms/step - accuracy: 1.0000 - loss: 1.7465e-05\n",
      "Epoch 75/100\n",
      "\u001b[1m63/63\u001b[0m \u001b[32m━━━━━━━━━━━━━━━━━━━━\u001b[0m\u001b[37m\u001b[0m \u001b[1m13s\u001b[0m 198ms/step - accuracy: 1.0000 - loss: 1.8031e-05\n",
      "Epoch 76/100\n",
      "\u001b[1m63/63\u001b[0m \u001b[32m━━━━━━━━━━━━━━━━━━━━\u001b[0m\u001b[37m\u001b[0m \u001b[1m13s\u001b[0m 199ms/step - accuracy: 1.0000 - loss: 1.6262e-05\n",
      "Epoch 77/100\n",
      "\u001b[1m63/63\u001b[0m \u001b[32m━━━━━━━━━━━━━━━━━━━━\u001b[0m\u001b[37m\u001b[0m \u001b[1m11s\u001b[0m 176ms/step - accuracy: 1.0000 - loss: 1.5037e-05\n",
      "Epoch 78/100\n",
      "\u001b[1m63/63\u001b[0m \u001b[32m━━━━━━━━━━━━━━━━━━━━\u001b[0m\u001b[37m\u001b[0m \u001b[1m12s\u001b[0m 184ms/step - accuracy: 1.0000 - loss: 1.5831e-05\n",
      "Epoch 79/100\n",
      "\u001b[1m63/63\u001b[0m \u001b[32m━━━━━━━━━━━━━━━━━━━━\u001b[0m\u001b[37m\u001b[0m \u001b[1m13s\u001b[0m 197ms/step - accuracy: 1.0000 - loss: 1.4129e-05\n",
      "Epoch 80/100\n",
      "\u001b[1m63/63\u001b[0m \u001b[32m━━━━━━━━━━━━━━━━━━━━\u001b[0m\u001b[37m\u001b[0m \u001b[1m12s\u001b[0m 182ms/step - accuracy: 1.0000 - loss: 1.5078e-05\n",
      "Epoch 81/100\n",
      "\u001b[1m63/63\u001b[0m \u001b[32m━━━━━━━━━━━━━━━━━━━━\u001b[0m\u001b[37m\u001b[0m \u001b[1m12s\u001b[0m 186ms/step - accuracy: 1.0000 - loss: 1.2706e-05\n",
      "Epoch 82/100\n",
      "\u001b[1m63/63\u001b[0m \u001b[32m━━━━━━━━━━━━━━━━━━━━\u001b[0m\u001b[37m\u001b[0m \u001b[1m13s\u001b[0m 199ms/step - accuracy: 1.0000 - loss: 1.3894e-05\n",
      "Epoch 83/100\n",
      "\u001b[1m63/63\u001b[0m \u001b[32m━━━━━━━━━━━━━━━━━━━━\u001b[0m\u001b[37m\u001b[0m \u001b[1m12s\u001b[0m 182ms/step - accuracy: 1.0000 - loss: 1.2669e-05\n",
      "Epoch 84/100\n",
      "\u001b[1m63/63\u001b[0m \u001b[32m━━━━━━━━━━━━━━━━━━━━\u001b[0m\u001b[37m\u001b[0m \u001b[1m11s\u001b[0m 180ms/step - accuracy: 1.0000 - loss: 1.2107e-05\n",
      "Epoch 85/100\n",
      "\u001b[1m63/63\u001b[0m \u001b[32m━━━━━━━━━━━━━━━━━━━━\u001b[0m\u001b[37m\u001b[0m \u001b[1m11s\u001b[0m 175ms/step - accuracy: 1.0000 - loss: 1.0863e-05\n",
      "Epoch 86/100\n",
      "\u001b[1m63/63\u001b[0m \u001b[32m━━━━━━━━━━━━━━━━━━━━\u001b[0m\u001b[37m\u001b[0m \u001b[1m11s\u001b[0m 180ms/step - accuracy: 1.0000 - loss: 1.0801e-05\n",
      "Epoch 87/100\n",
      "\u001b[1m63/63\u001b[0m \u001b[32m━━━━━━━━━━━━━━━━━━━━\u001b[0m\u001b[37m\u001b[0m \u001b[1m11s\u001b[0m 174ms/step - accuracy: 1.0000 - loss: 1.0529e-05\n",
      "Epoch 88/100\n",
      "\u001b[1m63/63\u001b[0m \u001b[32m━━━━━━━━━━━━━━━━━━━━\u001b[0m\u001b[37m\u001b[0m \u001b[1m11s\u001b[0m 182ms/step - accuracy: 1.0000 - loss: 9.1750e-06\n",
      "Epoch 89/100\n",
      "\u001b[1m63/63\u001b[0m \u001b[32m━━━━━━━━━━━━━━━━━━━━\u001b[0m\u001b[37m\u001b[0m \u001b[1m11s\u001b[0m 178ms/step - accuracy: 1.0000 - loss: 9.0021e-06\n",
      "Epoch 90/100\n",
      "\u001b[1m63/63\u001b[0m \u001b[32m━━━━━━━━━━━━━━━━━━━━\u001b[0m\u001b[37m\u001b[0m \u001b[1m11s\u001b[0m 171ms/step - accuracy: 1.0000 - loss: 8.8814e-06\n",
      "Epoch 91/100\n",
      "\u001b[1m63/63\u001b[0m \u001b[32m━━━━━━━━━━━━━━━━━━━━\u001b[0m\u001b[37m\u001b[0m \u001b[1m12s\u001b[0m 183ms/step - accuracy: 1.0000 - loss: 8.7318e-06\n",
      "Epoch 92/100\n",
      "\u001b[1m63/63\u001b[0m \u001b[32m━━━━━━━━━━━━━━━━━━━━\u001b[0m\u001b[37m\u001b[0m \u001b[1m11s\u001b[0m 176ms/step - accuracy: 1.0000 - loss: 7.7230e-06\n",
      "Epoch 93/100\n",
      "\u001b[1m63/63\u001b[0m \u001b[32m━━━━━━━━━━━━━━━━━━━━\u001b[0m\u001b[37m\u001b[0m \u001b[1m11s\u001b[0m 170ms/step - accuracy: 1.0000 - loss: 7.9145e-06\n",
      "Epoch 94/100\n",
      "\u001b[1m63/63\u001b[0m \u001b[32m━━━━━━━━━━━━━━━━━━━━\u001b[0m\u001b[37m\u001b[0m \u001b[1m11s\u001b[0m 173ms/step - accuracy: 1.0000 - loss: 7.2546e-06\n",
      "Epoch 95/100\n",
      "\u001b[1m63/63\u001b[0m \u001b[32m━━━━━━━━━━━━━━━━━━━━\u001b[0m\u001b[37m\u001b[0m \u001b[1m11s\u001b[0m 172ms/step - accuracy: 1.0000 - loss: 7.4948e-06\n",
      "Epoch 96/100\n",
      "\u001b[1m63/63\u001b[0m \u001b[32m━━━━━━━━━━━━━━━━━━━━\u001b[0m\u001b[37m\u001b[0m \u001b[1m11s\u001b[0m 170ms/step - accuracy: 1.0000 - loss: 6.6968e-06\n",
      "Epoch 97/100\n",
      "\u001b[1m63/63\u001b[0m \u001b[32m━━━━━━━━━━━━━━━━━━━━\u001b[0m\u001b[37m\u001b[0m \u001b[1m11s\u001b[0m 172ms/step - accuracy: 1.0000 - loss: 7.0007e-06\n",
      "Epoch 98/100\n",
      "\u001b[1m63/63\u001b[0m \u001b[32m━━━━━━━━━━━━━━━━━━━━\u001b[0m\u001b[37m\u001b[0m \u001b[1m11s\u001b[0m 172ms/step - accuracy: 1.0000 - loss: 6.8316e-06\n",
      "Epoch 99/100\n",
      "\u001b[1m63/63\u001b[0m \u001b[32m━━━━━━━━━━━━━━━━━━━━\u001b[0m\u001b[37m\u001b[0m \u001b[1m11s\u001b[0m 170ms/step - accuracy: 1.0000 - loss: 6.4204e-06\n",
      "Epoch 100/100\n",
      "\u001b[1m63/63\u001b[0m \u001b[32m━━━━━━━━━━━━━━━━━━━━\u001b[0m\u001b[37m\u001b[0m \u001b[1m11s\u001b[0m 171ms/step - accuracy: 1.0000 - loss: 5.8372e-06\n"
     ]
    },
    {
     "data": {
      "text/plain": [
       "<keras.src.callbacks.history.History at 0x1e1691b3290>"
      ]
     },
     "execution_count": 14,
     "metadata": {},
     "output_type": "execute_result"
    }
   ],
   "source": [
    "model.fit(X_train, y_train, epochs=100)"
   ]
  },
  {
   "cell_type": "code",
   "execution_count": 15,
   "id": "ed5ed6b2",
   "metadata": {
    "scrolled": true
   },
   "outputs": [
    {
     "name": "stdout",
     "output_type": "stream",
     "text": [
      "\u001b[1m31/31\u001b[0m \u001b[32m━━━━━━━━━━━━━━━━━━━━\u001b[0m\u001b[37m\u001b[0m \u001b[1m2s\u001b[0m 50ms/step\n",
      "[0 0 2 2 1 2 1 0 0 1 2 1 0 0 0 0 2 2 1 2 0 1 2 1 0 1 2 0 2 0 2 2 0 2 2 2 0\n",
      " 2 0 2 2 2 0 0 0 0 0 1 1 0 1 0 0 0 1 0 1 1 1 2 2 2 2 1 0 0 2 1 0 1 2 0 0 1\n",
      " 2 1 1 1 0 0 1 1 1 1 1 2 0 2 0 0 0 0 1 1 1 0 2 0 1 1 2 2 0 1 0 0 2 0 2 2 0\n",
      " 2 2 0 0 2 1 1 1 0 2 0 1 0 0 1 2 1 2 0 2 2 1 1 0 0 1 1 2 2 0 0 1 0 1 1 1 1\n",
      " 1 0 2 0 2 1 1 0 0 1 2 1 0 2 0 0 2 2 2 2 1 2 0 0 0 2 2 0 0 2 0 2 1 0 0 1 0\n",
      " 0 0 2 2 1 0 1 0 2 0 2 2 0 0 2 1 0 0 0 0 0 1 0 0 0 2 0 0 1 1 0 0 2 2 2 2 2\n",
      " 2 1 0 1 1 2 1 1 2 2 2 2 2 0 1 0 1 1 2 0 0 2 1 2 1 1 1 1 1 0 1 1 0 2 2 2 1\n",
      " 0 1 1 0 1 2 0 0 2 1 0 0 0 2 0 1 1 2 1 0 2 2 1 0 0 1 2 0 2 1 1 2 0 0 0 2 0\n",
      " 1 0 1 1 2 2 2 0 0 2 1 1 1 0 0 2 1 1 0 0 2 0 2 2 0 0 0 2 0 0 1 0 0 2 2 1 1\n",
      " 1 0 0 2 2 0 2 2 2 2 1 1 2 2 2 1 2 1 2 2 1 1 2 0 0 0 2 2 1 0 2 1 1 2 0 1 2\n",
      " 2 0 1 2 0 2 1 0 2 2 1 1 1 2 0 1 1 1 0 1 2 1 0 0 1 0 2 0 2 0 2 0 1 0 1 2 1\n",
      " 0 2 1 2 2 0 1 2 1 0 2 1 0 0 2 0 1 1 0 2 0 2 1 2 2 1 2 1 1 1 2 1 1 1 2 1 2\n",
      " 1 2 2 0 0 1 2 2 1 0 0 0 2 2 0 2 1 2 2 1 0 1 1 2 0 0 2 1 2 1 0 1 2 0 1 1 0\n",
      " 0 1 1 2 0 2 2 0 0 1 1 0 0 2 1 2 2 1 0 2 0 2 1 2 1 2 2 0 1 1 2 0 2 0 1 0 1\n",
      " 1 2 2 0 2 2 2 1 2 2 1 0 1 0 0 1 0 0 0 1 1 0 0 2 0 1 0 0 1 0 2 1 2 1 2 0 1\n",
      " 2 2 0 1 2 1 1 2 0 1 2 0 0 2 2 1 1 2 2 0 2 0 2 2 2 2 1 1 2 0 1 1 1 0 0 1 0\n",
      " 2 0 1 1 2 0 1 1 0 0 1 0 2 1 0 2 0 0 2 0 2 2 1 0 1 0 1 1 0 1 1 0 0 2 2 0 1\n",
      " 1 1 0 0 0 2 2 1 0 2 1 2 2 1 0 0 0 2 0 0 2 0 1 0 0 1 1 2 0 2 1 1 0 1 0 2 2\n",
      " 2 2 1 0 1 1 2 2 1 1 1 0 0 1 1 0 2 0 2 1 2 1 0 0 0 2 2 0 0 1 2 0 0 0 2 1 1\n",
      " 2 1 1 0 2 0 1 2 0 0 2 2 1 1 1 1 1 0 1 1 2 2 0 1 1 2 2 1 0 0 1 2 0 2 2 0 2\n",
      " 0 1 0 0 0 1 0 2 0 1 0 2 0 0 0 0 2 0 1 0 0 1 2 2 0 0 0 2 2 0 2 1 0 1 2 1 0\n",
      " 2 0 0 2 2 0 0 2 0 2 0 0 2 0 2 1 0 1 2 1 0 1 2 0 2 2 0 1 0 2 2 0 0 0 2 0 2\n",
      " 2 2 2 1 2 1 0 2 2 2 0 2 1 0 2 2 1 2 1 0 1 2 1 1 1 2 0 1 1 2 2 0 1 2 1 2 2\n",
      " 0 2 2 0 2 0 2 1 0 2 0 0 0 0 1 1 0 2 1 0 1 0 0 0 1 2 0 0 2 2 1 1 0 1 1 0 2\n",
      " 2 1 2 0 0 0 0 1 0 0 2 1 1 2 1 0 1 0 1 0 2 1 2 2 1 1 0 1 0 1 0 2 1 0 0 2 1\n",
      " 1 2 2 1 2 0 1 0 2 0 2 1 0 1 2 2 1 0 0 1 0 0 0 0 1 0 2 0 2 0 1 0 0 2 0 0 1\n",
      " 1 1 1 1 2 1 2 2 0 1 2 2 1 1 1 2 2 1 2 1 1 0 0 2 1 0 2 0]\n"
     ]
    }
   ],
   "source": [
    "import numpy as np\n",
    "\n",
    "# Get predictions as probabilities\n",
    "pred_probabilities = model.predict(X_test)\n",
    "\n",
    "# Convert probabilities to class indices\n",
    "pred_y = np.argmax(pred_probabilities, axis=1)\n",
    "\n",
    "# Print the predicted class indices\n",
    "print(pred_y)\n"
   ]
  },
  {
   "cell_type": "code",
   "execution_count": 31,
   "id": "242031ed",
   "metadata": {},
   "outputs": [
    {
     "data": {
      "image/jpeg": "[encoded data removed]",
      "image/png": "[encoded data removed]",
      "text/plain": [
       "<PIL.Image.Image image mode=RGB size=90x90>"
      ]
     },
     "execution_count": 31,
     "metadata": {},
     "output_type": "execute_result"
    }
   ],
   "source": [
    "from tensorflow.keras.utils import load_img\n",
    "img = load_img(\"D://Projects//Animal Classification//cats//0_0023.jpg\", target_size=(90, 90, 3))\n",
    "img"
   ]
  },
  {
   "cell_type": "code",
   "execution_count": 32,
   "id": "f0336acc",
   "metadata": {},
   "outputs": [
    {
     "data": {
      "text/plain": [
       "(90, 90, 3)"
      ]
     },
     "execution_count": 32,
     "metadata": {},
     "output_type": "execute_result"
    }
   ],
   "source": [
    "img = np.array(img)\n",
    "img.shape"
   ]
  },
  {
   "cell_type": "code",
   "execution_count": 33,
   "id": "3b59552e",
   "metadata": {},
   "outputs": [],
   "source": [
    "img = img.reshape((1, img.shape[0], img.shape[1],img.shape[2]))\n",
    "img = img / 255.0"
   ]
  },
  {
   "cell_type": "code",
   "execution_count": 34,
   "id": "cd7115bc",
   "metadata": {},
   "outputs": [
    {
     "name": "stdout",
     "output_type": "stream",
     "text": [
      "\u001b[1m1/1\u001b[0m \u001b[32m━━━━━━━━━━━━━━━━━━━━\u001b[0m\u001b[37m\u001b[0m \u001b[1m0s\u001b[0m 32ms/step\n"
     ]
    }
   ],
   "source": [
    "test_flower = model.predict(img)"
   ]
  },
  {
   "cell_type": "code",
   "execution_count": 37,
   "id": "d9b5ae18",
   "metadata": {},
   "outputs": [
    {
     "ename": "TypeError",
     "evalue": "only integer scalar arrays can be converted to a scalar index",
     "output_type": "error",
     "traceback": [
      "\u001b[1;31m---------------------------------------------------------------------------\u001b[0m",
      "\u001b[1;31mTypeError\u001b[0m                                 Traceback (most recent call last)",
      "Cell \u001b[1;32mIn[37], line 4\u001b[0m\n\u001b[0;32m      1\u001b[0m res \u001b[38;5;241m=\u001b[39m np\u001b[38;5;241m.\u001b[39margmax(test_flower, axis\u001b[38;5;241m=\u001b[39m\u001b[38;5;241m1\u001b[39m)\n\u001b[0;32m      3\u001b[0m \u001b[38;5;66;03m# Print the predicted class indices\u001b[39;00m\n\u001b[1;32m----> 4\u001b[0m \u001b[38;5;28mprint\u001b[39m(animals[res])\n",
      "\u001b[1;31mTypeError\u001b[0m: only integer scalar arrays can be converted to a scalar index"
     ]
    }
   ],
   "source": [
    "res = np.argmax(test_flower, axis=1)\n",
    "\n",
    "# Print the predicted class indices\n",
    "print(animals[res])\n",
    "\n"
   ]
  },
  {
   "cell_type": "code",
   "execution_count": null,
   "id": "704752d4",
   "metadata": {},
   "outputs": [],
   "source": []
  }
 ],
 "metadata": {
  "kernelspec": {
   "display_name": "Python 3 (ipykernel)",
   "language": "python",
   "name": "python3"
  },
  "language_info": {
   "codemirror_mode": {
    "name": "ipython",
    "version": 3
   },
   "file_extension": ".py",
   "mimetype": "text/x-python",
   "name": "python",
   "nbconvert_exporter": "python",
   "pygments_lexer": "ipython3",
   "version": "3.11.5"
  }
 },
 "nbformat": 4,
 "nbformat_minor": 5
}
